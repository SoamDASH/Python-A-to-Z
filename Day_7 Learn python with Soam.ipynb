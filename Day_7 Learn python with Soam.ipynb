{
 "cells": [
  {
   "attachments": {
    "signature.png": {
     "image/png": "[encoded data removed]"
    }
   },
   "cell_type": "markdown",
   "id": "385b8192",
   "metadata": {},
   "source": [
    "![signature.png](attachment:signature.png)"
   ]
  },
  {
   "cell_type": "markdown",
   "id": "e06ecdf8",
   "metadata": {},
   "source": [
    "### Welcome in Day_7\n",
    "#### Learn Python With Soam \n",
    "##### Git hub : https://github.com/SoamDASH/Day2\n",
    "##### Gmail: dashsoumyadarshan@gmail.com\n"
   ]
  },
  {
   "cell_type": "markdown",
   "id": "78d08cfe",
   "metadata": {},
   "source": [
    "### What is List?"
   ]
  },
  {
   "cell_type": "markdown",
   "id": "975c6ed0",
   "metadata": {},
   "source": [
    "- A list in Python is a way to store a collection of items. Think of it like a shopping list, where you write down all the things you need to buy. In Python, instead of writing down things to buy, you can store words, numbers, or even other lists inside a list. It's like a box where you can put different things inside. You can add, remove, or change the items in the list. Just like how you can add or remove items from your shopping list."
   ]
  },
  {
   "cell_type": "code",
   "execution_count": 3,
   "id": "8404592f",
   "metadata": {},
   "outputs": [
    {
     "name": "stdout",
     "output_type": "stream",
     "text": [
      "['apple', 'banana', 'orange']\n"
     ]
    }
   ],
   "source": [
    "# Here's an example of a list in Python:\n",
    "\n",
    "fruits = ['apple', 'banana', 'orange']\n",
    "\n",
    "print(fruits)\n"
   ]
  },
  {
   "cell_type": "markdown",
   "id": "697851ea",
   "metadata": {},
   "source": [
    "In this example, fruits is the name of the list and it contains three items: 'apple', 'banana', and 'orange'. These items are called elements of the list."
   ]
  },
  {
   "cell_type": "code",
   "execution_count": 5,
   "id": "0935af92",
   "metadata": {},
   "outputs": [
    {
     "name": "stdout",
     "output_type": "stream",
     "text": [
      "[1, 2, 3, 4, 5]\n"
     ]
    }
   ],
   "source": [
    "# We can also create a list with numbers:\n",
    "\n",
    "numbers = [1, 2, 3, 4, 5]\n",
    "\n",
    "print(numbers)"
   ]
  },
  {
   "cell_type": "markdown",
   "id": "096f948a",
   "metadata": {},
   "source": [
    "**Why we dont use(' ') in numbers ?**\n",
    "\n",
    "- In python, when we write a list of things, we use something called quotes. It's like giving a name to a thing, like saying \"banana\" is a banana. When we have a list of things that are numbers, like 1, 2, 3, we don't use the quotes. That's because python knows that these are numbers and we can do math with them. Like counting or adding them. But if we use quotes around the numbers, like \"1\", \"2\", \"3\", then python thinks that these are just words and not numbers. So we don't use quotes for numbers in a list."
   ]
  },
  {
   "cell_type": "markdown",
   "id": "729d6f5b",
   "metadata": {},
   "source": [
    "**Use of List**\n",
    "\n",
    "A list in python is like a special box where you can put different things inside. It's like a shopping list, where you write down all the things you need to buy. But instead of writing things to buy, you can put words, numbers or even other lists inside a list in python. It's like a big box that can hold smaller boxes.\n",
    "\n",
    "There are many things you can do with a list, like:\n",
    "\n",
    "- Make a list of your favorite fruits\n",
    "\n",
    "\n",
    "- Keep a list of things you need to do\n",
    "\n",
    "\n",
    "- Sort and pick out the things you want from the list\n",
    "\n",
    "\n",
    "- Keep a lot of things in one place\n",
    "\n",
    "\n",
    "- Make a table of numbers\n",
    "\n",
    "\n",
    "- Keep track of your score in a game\n",
    "\n",
    "\n",
    "- Keep track of the result of a ma"
   ]
  },
  {
   "cell_type": "markdown",
   "id": "2ae79bf1",
   "metadata": {},
   "source": [
    "Lists are very helpful to organize and keep track of different things in python. They allow you to keep many things in one place and you can easily add, remove or get the things from the list."
   ]
  },
  {
   "cell_type": "markdown",
   "id": "72ecb484",
   "metadata": {},
   "source": [
    "We may go over how to apply append, and remove in the following advanced notes of the list."
   ]
  },
  {
   "cell_type": "markdown",
   "id": "20bdb422",
   "metadata": {},
   "source": [
    "### What is Tuple?"
   ]
  },
  {
   "cell_type": "markdown",
   "id": "ca607010",
   "metadata": {},
   "source": [
    "-  A tuple in python is like a bag of things where you can put different things inside. Once you put the things in the bag, you can't take them out or add more things to the bag. But you can still look at the things inside the bag and count how many things are in the bag.\n",
    "\n",
    "For example, you have a bag of marbles and you put red, blue and green marbles in it. Once you put the marbles in the bag, you can't take them out or add more marbles to the bag. But you can still look at the marbles in the bag and count how many marbles are in the bag.\n",
    "\n",
    "In python, a tuple is a similar way to store a collection of items, once you create it, you can't change it, you can't add or remove items, but you can still access the items and check how many items are in the tuple."
   ]
  },
  {
   "cell_type": "code",
   "execution_count": 7,
   "id": "e3968276",
   "metadata": {},
   "outputs": [
    {
     "name": "stdout",
     "output_type": "stream",
     "text": [
      "('red', 'blue', 'green')\n"
     ]
    }
   ],
   "source": [
    "marbles = ('red', 'blue', 'green')\n",
    "\n",
    "print(marbles)"
   ]
  },
  {
   "cell_type": "markdown",
   "id": "53e9b1d7",
   "metadata": {},
   "source": [
    "In this example, marbles is the name of the tuple and it contains three items: 'red', 'blue', and 'green'. These items are called elements of the tuple."
   ]
  },
  {
   "cell_type": "code",
   "execution_count": 8,
   "id": "7b906a7d",
   "metadata": {},
   "outputs": [
    {
     "name": "stdout",
     "output_type": "stream",
     "text": [
      "red\n"
     ]
    }
   ],
   "source": [
    "# We can access an item in the tuple by its index\n",
    "\n",
    "print(marbles[0]) # prints 'red'\n",
    "\n",
    "# the method i use called \"index slicing\"\n",
    "\n",
    "#we can discussion in depth upcomin notes\n",
    "\n",
    "# now i just interact you to with a basic intro"
   ]
  },
  {
   "cell_type": "code",
   "execution_count": 9,
   "id": "7c38afab",
   "metadata": {},
   "outputs": [
    {
     "name": "stdout",
     "output_type": "stream",
     "text": [
      "3\n"
     ]
    }
   ],
   "source": [
    "# We can also check the number of items in the tuple\n",
    "\n",
    "print(len(marbles)) # prints 3\n"
   ]
  },
  {
   "cell_type": "markdown",
   "id": "7803dad0",
   "metadata": {},
   "source": [
    "in this example we created a tuple named marbles and we put red, blue, green items in it and we can access the items and check the number of items in the tuple but we can't change the items that we put in the tuple."
   ]
  },
  {
   "cell_type": "markdown",
   "id": "baa1762a",
   "metadata": {},
   "source": [
    "**Use of Tuple**"
   ]
  },
  {
   "cell_type": "markdown",
   "id": "a910dd5b",
   "metadata": {},
   "source": [
    "- To group related data together: Tuples can be used to store multiple values that are related to each other, such as the x and y coordinates of a point on a graph or the name and age of a person.\n",
    "\n",
    "\n",
    "\n",
    "- As function return values: Many functions return multiple values, and tuples are a convenient way to return multiple values from a function.\n",
    "\n",
    "\n",
    "\n",
    "- To represent data structures: Tuples can be used to represent data structures such as a point in a 2D space or a RGB color.\n",
    "\n",
    "\n",
    "\n",
    "- To use as keys in dictionaries: Because tuples are immutable, they can be used as keys in a dictionary, while lists can't.\n",
    "\n",
    "\n",
    "\n",
    "- To make data read-only: Because tuples are immutable, they can be used to make data read-only. Once a tuple is created, its values can't be changed, which can help to ensure data integrity.\n",
    "\n",
    "\n",
    "- To make code more efficient: Tuples are generally faster and more memory efficient than lists, so they can be used in situations where performance is critical."
   ]
  },
  {
   "cell_type": "markdown",
   "id": "4ed5f33a",
   "metadata": {},
   "source": [
    "**Note**\n",
    "\n",
    "- A list is like a big box where you can put different things inside and you can add, remove or change the things inside the box. A tuple is like a bag where you can put different things inside but you can't add, remove or change the things inside the bag once you put them in. Lists are written with square brackets, like [], while tuples are written with parentheses, like (). Lists are good when things might change and tuples are good when things will stay the same.\n",
    "\n",
    "\n",
    "\n",
    "- Lists are mutable, which means that you can add, remove, or change items in a list after it's been created. Tuples are immutable, which means that you can't change the items in a tuple once it's been created.\n",
    "\n",
    "\n",
    "\n",
    "\n",
    "- Lists are generally more flexible than tuples, because you can easily add, remove, or change items as needed. Tuples are more efficient and faster than lists when it comes to access the items, because you don't need to go through the list to find the item you are looking for.\n",
    "\n",
    "\n",
    "\n",
    "- Lists are useful when you are working with a collection of items that may change over time, while tuples are useful when you have a fixed collection of items that will not change and you want to access the items quickly."
   ]
  },
  {
   "cell_type": "markdown",
   "id": "dc787309",
   "metadata": {},
   "source": [
    "## What is Set?"
   ]
  },
  {
   "cell_type": "markdown",
   "id": "3db0709a",
   "metadata": {},
   "source": [
    "- A set in Python is like a special bag where you can put toys in, but we can't have two of the same toy in the bag! \n",
    "\n",
    "- It's like a toy box where we can only have one of each toy. It's kind of like a game where we collect different toys, but we don't want to have any duplicates!"
   ]
  },
  {
   "cell_type": "code",
   "execution_count": 11,
   "id": "4129ea36",
   "metadata": {},
   "outputs": [
    {
     "name": "stdout",
     "output_type": "stream",
     "text": [
      "{'lego car', 'action figure', 'teddy bear'}\n"
     ]
    }
   ],
   "source": [
    "# create an empty set\n",
    "my_toy_set = set()\n",
    "\n",
    "# add some toys to the set\n",
    "my_toy_set.add(\"teddy bear\")\n",
    "my_toy_set.add(\"lego car\")\n",
    "my_toy_set.add(\"action figure\")\n",
    "\n",
    "# try to add a duplicate toy\n",
    "my_toy_set.add(\"teddy bear\") # nothing happens\n",
    "\n",
    "# print out the toys in the set\n",
    "print(my_toy_set) \n",
    "#output: {'teddy bear', 'lego car', 'action figure'}\n"
   ]
  },
  {
   "cell_type": "markdown",
   "id": "96fff94b",
   "metadata": {},
   "source": [
    "Here is just one example to help you understand. In future notes, we will discuss many more examples in much more detail, so don't worry. We will cover everything thoroughly"
   ]
  },
  {
   "cell_type": "code",
   "execution_count": null,
   "id": "b4284cbb",
   "metadata": {},
   "outputs": [],
   "source": []
  },
  {
   "cell_type": "code",
   "execution_count": null,
   "id": "e4c05565",
   "metadata": {},
   "outputs": [],
   "source": []
  },
  {
   "cell_type": "markdown",
   "id": "0ef17b15",
   "metadata": {},
   "source": [
    "### What is Dictionary?"
   ]
  },
  {
   "cell_type": "markdown",
   "id": "e48e35e6",
   "metadata": {},
   "source": [
    "- A dictionary in Python is like a special box where we can put things inside and label them with a name, it's like a toy chest where you have different compartments and each compartment has a label on it, \n",
    "\n",
    "for example,\n",
    "\n",
    "we can have a compartment labeled \"teddy bears\" and another labeled \"action figures\", and we can put your toys in the right compartment. \n",
    "\n",
    "It's like a game where we collect different toys and we have to put them in the right drawer so we can find them later!\n",
    "\n",
    "**In the future, we can translate this example into python scripts, but for now, I'll just offer you a simple dictionary example.**"
   ]
  },
  {
   "cell_type": "code",
   "execution_count": 12,
   "id": "f03f1c6c",
   "metadata": {},
   "outputs": [],
   "source": [
    "# create a dictionary with some key-value pairs\n",
    "my_dict = {\"apple\": \"red\", \"banana\": \"yellow\", \"orange\": \"orange\"}"
   ]
  },
  {
   "attachments": {
    "python-dict-keys-and-values00000000.png": {
     "image/png": "[encoded data removed]"
    }
   },
   "cell_type": "markdown",
   "id": "5c9190c8",
   "metadata": {},
   "source": [
    "![python-dict-keys-and-values00000000.png](attachment:python-dict-keys-and-values00000000.png)"
   ]
  },
  {
   "cell_type": "code",
   "execution_count": 13,
   "id": "a08ce4bd",
   "metadata": {},
   "outputs": [
    {
     "name": "stdout",
     "output_type": "stream",
     "text": [
      "{'apple': 'red', 'banana': 'yellow', 'orange': 'orange'}\n"
     ]
    }
   ],
   "source": [
    "print(my_dict)"
   ]
  },
  {
   "cell_type": "code",
   "execution_count": 14,
   "id": "3c837b02",
   "metadata": {},
   "outputs": [
    {
     "name": "stdout",
     "output_type": "stream",
     "text": [
      "Keys of my_dict: dict_keys(['apple', 'banana', 'orange'])\n"
     ]
    }
   ],
   "source": [
    "# print the keys \n",
    "print(\"Keys of my_dict:\", my_dict.keys())"
   ]
  },
  {
   "cell_type": "code",
   "execution_count": 16,
   "id": "f06eb59a",
   "metadata": {},
   "outputs": [
    {
     "name": "stdout",
     "output_type": "stream",
     "text": [
      "Values of my_dict: dict_values(['red', 'yellow', 'orange'])\n"
     ]
    }
   ],
   "source": [
    "# print the values\n",
    "print(\"Values of my_dict:\", my_dict.values())"
   ]
  },
  {
   "cell_type": "markdown",
   "id": "24b4ef69",
   "metadata": {},
   "source": [
    "- in the dictionary {\"apple\": \"red\", \"banana\": \"yellow\", \"orange\": \"orange\"} the keys are \"apple\", \"banana\", and \"orange\" and the values are \"red\", \"yellow\", and \"orange\" respectively.\n",
    "\n",
    "\n",
    "\n",
    "\n",
    "- The key is the word before the colon (:) and the value is the word after the colon. So in the example above, \"apple\" is the key and \"red\" is the value, \"banana\" is the key and \"yellow\" is the value and so on\n",
    "\n",
    "\n",
    "\n",
    "**imagine just like:**\n",
    "\n",
    "\n",
    "We can have a compartment labeled \"teddy bears\" and another labeled \"action figures\", and we can put our toys in the right compartment. And the label is the key and the toy inside the compartment is the value."
   ]
  },
  {
   "cell_type": "markdown",
   "id": "6b326ad5",
   "metadata": {},
   "source": [
    "**Q1.** How to change the value fo the Key \"banana\"\n",
    "\n",
    "**Q2.** Add a new key-value pair to the dictionary\n",
    "\n",
    "print out put the ehole dictionary\n",
    "\n",
    "Do research on your own i will explain you it very well in next notes "
   ]
  },
  {
   "cell_type": "markdown",
   "id": "7759dbf3",
   "metadata": {},
   "source": [
    "**Use of dictionary**\n",
    "\n",
    "- Storing and retrieving data: Dictionaries are used to store key-value pairs, where the key is a unique identifier and the value is the actual data. This allows you to easily retrieve data by its key.\n",
    "\n",
    "\n",
    "\n",
    "- Representing complex data: Dictionaries can be nested to create complex data structures that can represent real-world objects or relationships.\n",
    "\n",
    "\n",
    "\n",
    "- Counting and grouping: Dictionaries can be used to count the occurrences of items in a list or group similar items together.\n",
    "\n",
    "\n",
    "\n",
    "- Mapping: Dictionaries can be used to map values from one domain to another. For example, you can create a dictionary that maps the names of colors to their hexadecimal codes.\n",
    "\n",
    "\n",
    "\n",
    "- Configuration: Dictionaries can be used to store configuration settings for a program, such as user preferences or runtime options.\n",
    "\n",
    "\n",
    "- Function arguments: Dictionaries can be used as keyword arguments in function calls to make the function more flexible and easy to use.\n",
    "\n",
    "\n",
    "- Dictionaries are commonly used in web scraping, data science, and machine learning, they are also used in many popular Python libraries such as Pandas, NumPy, and many more.\n",
    "\n",
    "\n",
    "\n",
    "\n",
    "For now just get an idea we will discusssion every points in future before that we focus on some important basic concepts\n"
   ]
  },
  {
   "cell_type": "markdown",
   "id": "0f2148b4",
   "metadata": {},
   "source": [
    "**Thank You Learn Python With Soam**\n",
    "\n",
    "**Support the helping hand of Soam**"
   ]
  },
  {
   "cell_type": "code",
   "execution_count": null,
   "id": "b021a878",
   "metadata": {},
   "outputs": [],
   "source": []
  }
 ],
 "metadata": {
  "kernelspec": {
   "display_name": "Python 3 (ipykernel)",
   "language": "python",
   "name": "python3"
  },
  "language_info": {
   "codemirror_mode": {
    "name": "ipython",
    "version": 3
   },
   "file_extension": ".py",
   "mimetype": "text/x-python",
   "name": "python",
   "nbconvert_exporter": "python",
   "pygments_lexer": "ipython3",
   "version": "3.9.7"
  }
 },
 "nbformat": 4,
 "nbformat_minor": 5
}
